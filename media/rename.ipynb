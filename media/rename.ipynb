{
 "cells": [
  {
   "cell_type": "code",
   "execution_count": 1,
   "metadata": {},
   "outputs": [
    {
     "name": "stdout",
     "output_type": "stream",
     "text": [
      "1271\n"
     ]
    }
   ],
   "source": [
    "# load all images in /images/ and rename them 0-1000.png\n",
    "\n",
    "import os\n",
    "\n",
    "images = os.listdir(\"images\")\n",
    "print(len(images))\n",
    "for i, image in enumerate(images):\n",
    "    os.rename(f\"images/{image}\", f\"images/{i}_copy.png\")\n",
    "\n",
    "images = os.listdir(\"images\")\n",
    "for i, image in enumerate(images):\n",
    "    os.rename(f\"images/{image}\", f\"images/{i}.png\")\n",
    "\n",
    "# delete the rest of the images\n",
    "for i in range(1000, len(images)):\n",
    "    os.remove(f\"images/{i}.png\")"
   ]
  },
  {
   "cell_type": "code",
   "execution_count": null,
   "metadata": {},
   "outputs": [],
   "source": [
    "14, 18, 20, 39, 41, 78, 98, 128, \n",
    "\n",
    "-103"
   ]
  },
  {
   "cell_type": "code",
   "execution_count": 8,
   "metadata": {},
   "outputs": [
    {
     "data": {
      "text/plain": [
       "1000"
      ]
     },
     "execution_count": 8,
     "metadata": {},
     "output_type": "execute_result"
    }
   ],
   "source": [
    "len(images)"
   ]
  },
  {
   "cell_type": "code",
   "execution_count": null,
   "metadata": {},
   "outputs": [],
   "source": []
  }
 ],
 "metadata": {
  "kernelspec": {
   "display_name": "Python 3.8.10 ('venv': venv)",
   "language": "python",
   "name": "python3"
  },
  "language_info": {
   "codemirror_mode": {
    "name": "ipython",
    "version": 3
   },
   "file_extension": ".py",
   "mimetype": "text/x-python",
   "name": "python",
   "nbconvert_exporter": "python",
   "pygments_lexer": "ipython3",
   "version": "3.8.10"
  },
  "orig_nbformat": 4,
  "vscode": {
   "interpreter": {
    "hash": "23100df157b694127f3f744123ccbadd79ba735d264b181455f8facb946209a2"
   }
  }
 },
 "nbformat": 4,
 "nbformat_minor": 2
}
