{
 "cells": [
  {
   "cell_type": "code",
   "execution_count": 1,
   "metadata": {},
   "outputs": [
    {
     "ename": "ImportError",
     "evalue": "cannot import name 'Polyfaucet' from 'brownie' (/home/hugo/Dropbox/Projects/polyfaucet/venv/lib/python3.8/site-packages/brownie/__init__.py)",
     "output_type": "error",
     "traceback": [
      "\u001b[0;31m---------------------------------------------------------------------------\u001b[0m",
      "\u001b[0;31mImportError\u001b[0m                               Traceback (most recent call last)",
      "\u001b[1;32m/home/hugo/Dropbox/Projects/polyfaucet/contracts/PolyfaucetNFT/scripts/PolyfaucetNFT/playground.ipynb Cell 1\u001b[0m in \u001b[0;36m<cell line: 2>\u001b[0;34m()\u001b[0m\n\u001b[1;32m      <a href='vscode-notebook-cell:/home/hugo/Dropbox/Projects/polyfaucet/contracts/PolyfaucetNFT/scripts/PolyfaucetNFT/playground.ipynb#W0sZmlsZQ%3D%3D?line=0'>1</a>\u001b[0m \u001b[39m#!/usr/bin/python3\u001b[39;00m\n\u001b[0;32m----> <a href='vscode-notebook-cell:/home/hugo/Dropbox/Projects/polyfaucet/contracts/PolyfaucetNFT/scripts/PolyfaucetNFT/playground.ipynb#W0sZmlsZQ%3D%3D?line=1'>2</a>\u001b[0m \u001b[39mfrom\u001b[39;00m \u001b[39mbrownie\u001b[39;00m \u001b[39mimport\u001b[39;00m Polyfaucet, accounts, network, config\n\u001b[1;32m      <a href='vscode-notebook-cell:/home/hugo/Dropbox/Projects/polyfaucet/contracts/PolyfaucetNFT/scripts/PolyfaucetNFT/playground.ipynb#W0sZmlsZQ%3D%3D?line=2'>3</a>\u001b[0m \u001b[39mfrom\u001b[39;00m \u001b[39mscripts\u001b[39;00m\u001b[39m.\u001b[39;00m\u001b[39mhelpful_scripts\u001b[39;00m \u001b[39mimport\u001b[39;00m get_publish_source\n\u001b[1;32m      <a href='vscode-notebook-cell:/home/hugo/Dropbox/Projects/polyfaucet/contracts/PolyfaucetNFT/scripts/PolyfaucetNFT/playground.ipynb#W0sZmlsZQ%3D%3D?line=4'>5</a>\u001b[0m dev \u001b[39m=\u001b[39m accounts\u001b[39m.\u001b[39madd(config[\u001b[39m\"\u001b[39m\u001b[39mwallets\u001b[39m\u001b[39m\"\u001b[39m][\u001b[39m\"\u001b[39m\u001b[39mfrom_key\u001b[39m\u001b[39m\"\u001b[39m])\n",
      "\u001b[0;31mImportError\u001b[0m: cannot import name 'Polyfaucet' from 'brownie' (/home/hugo/Dropbox/Projects/polyfaucet/venv/lib/python3.8/site-packages/brownie/__init__.py)"
     ]
    }
   ],
   "source": [
    "#!/usr/bin/python3\n",
    "from brownie import Polyfaucet, accounts, network, config\n",
    "from scripts.helpful_scripts import get_publish_source\n",
    "\n",
    "dev = accounts.add(config[\"wallets\"][\"from_key\"])\n",
    "print(network.show_active())\n"
   ]
  },
  {
   "cell_type": "code",
   "execution_count": 1,
   "metadata": {},
   "outputs": [],
   "source": [
    "\n",
    "import csv\n",
    "addresses = []\n",
    "with open('../../addresses.csv', 'r') as csvfile:\n",
    "    reader = csv.reader(csvfile)\n",
    "    # skip first line\n",
    "    next(reader)\n",
    "    for row in reader:\n",
    "        addresses.append(row[0])\n",
    "\n",
    "d = {addresses[i]: True for i in range(len(addresses))}\n",
    "\n",
    "# save to file\n",
    "import json\n",
    "with open('addresses.json', 'w') as outfile:\n",
    "    json.dump(d, outfile)\n",
    "    "
   ]
  },
  {
   "cell_type": "code",
   "execution_count": null,
   "metadata": {},
   "outputs": [],
   "source": []
  },
  {
   "cell_type": "code",
   "execution_count": null,
   "metadata": {},
   "outputs": [],
   "source": []
  },
  {
   "cell_type": "code",
   "execution_count": null,
   "metadata": {},
   "outputs": [],
   "source": []
  },
  {
   "cell_type": "code",
   "execution_count": null,
   "metadata": {},
   "outputs": [],
   "source": []
  },
  {
   "cell_type": "code",
   "execution_count": null,
   "metadata": {},
   "outputs": [],
   "source": []
  },
  {
   "cell_type": "code",
   "execution_count": 8,
   "metadata": {},
   "outputs": [
    {
     "name": "stdout",
     "output_type": "stream",
     "text": [
      "1 hugo\n",
      "2 nadia\n",
      "3 baloo\n",
      "4 lizzy\n"
     ]
    }
   ],
   "source": [
    "l = [\"hugo\", \"nadia\", \"baloo\", \"lizzy\"]\n",
    "number = 0\n",
    "for item in l:\n",
    "    number = number + 1\n",
    "    print(f\"{number} {item}\")"
   ]
  },
  {
   "cell_type": "code",
   "execution_count": 16,
   "metadata": {},
   "outputs": [
    {
     "name": "stdout",
     "output_type": "stream",
     "text": [
      "[0, 1, 2, 3, 231]\n"
     ]
    }
   ],
   "source": [
    "l = [1,2,3,0]\n",
    "l.append(231)\n",
    "l.sort()\n",
    "print(l)"
   ]
  },
  {
   "cell_type": "code",
   "execution_count": null,
   "metadata": {},
   "outputs": [],
   "source": []
  }
 ],
 "metadata": {
  "kernelspec": {
   "display_name": "Python 3.8.10 ('venv': venv)",
   "language": "python",
   "name": "python3"
  },
  "language_info": {
   "codemirror_mode": {
    "name": "ipython",
    "version": 3
   },
   "file_extension": ".py",
   "mimetype": "text/x-python",
   "name": "python",
   "nbconvert_exporter": "python",
   "pygments_lexer": "ipython3",
   "version": "3.8.10"
  },
  "orig_nbformat": 4,
  "vscode": {
   "interpreter": {
    "hash": "24f402644831d383c9a55d32737c1511d7b3bc57f7e5a5c7140c6f662080376f"
   }
  }
 },
 "nbformat": 4,
 "nbformat_minor": 2
}
